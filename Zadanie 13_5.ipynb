{
 "cells": [
  {
   "cell_type": "code",
   "execution_count": 5,
   "id": "2786d57b",
   "metadata": {},
   "outputs": [
    {
     "name": "stdout",
     "output_type": "stream",
     "text": [
      "153153.79\n"
     ]
    }
   ],
   "source": [
    "import numpy as np\n",
    "import numpy_financial as npf\n",
    "\n",
    "freq = 12\n",
    "rate = 0.05\n",
    "years = 5\n",
    "price = 120000\n",
    "nper = years * freq\n",
    "periods = np.arange(1,nper+1,dtype=int)\n",
    "price_increased = np.around(npf.fv(rate, years, 0, -price), 2)\n",
    "print(price_increased)"
   ]
  },
  {
   "cell_type": "code",
   "execution_count": null,
   "id": "6b6b46ab",
   "metadata": {},
   "outputs": [],
   "source": [
    "# ad pkt1. Orientacyjna cena mieszkania za 5 lat będzie wynosić 153153.79"
   ]
  },
  {
   "cell_type": "code",
   "execution_count": 17,
   "id": "8356c6ce",
   "metadata": {},
   "outputs": [
    {
     "name": "stdout",
     "output_type": "stream",
     "text": [
      "1875.28\n"
     ]
    }
   ],
   "source": [
    "price_increased = 153153.79\n",
    "deposit_rate = 0.12\n",
    "rate_monthly = deposit_rate/freq\n",
    "monthly_payment = - np.around(npf.pmt(rate_monthly, nper, 0, price_increased), 2)\n",
    "print(monthly_payment)"
   ]
  },
  {
   "cell_type": "code",
   "execution_count": 18,
   "id": "c5600f66",
   "metadata": {},
   "outputs": [],
   "source": [
    "# ad. pkt 2. Aby uzbierać 153153.79 w ciągu 5 lat na lokacie oprocentowanej na 12% w skali roku przy kapitalizacji miesięcznej trzeba wpłacać 1875.28 "
   ]
  },
  {
   "cell_type": "code",
   "execution_count": 19,
   "id": "8886b20d",
   "metadata": {},
   "outputs": [
    {
     "data": {
      "text/plain": [
       "array([120000.  , 120561.93, 121123.86, 121685.79, 122247.71, 122809.64,\n",
       "       123371.57, 123933.5 , 124495.43, 125057.36, 125619.29, 126181.22,\n",
       "       126743.14, 127305.07, 127867.  , 128428.93, 128990.86, 129552.79,\n",
       "       130114.72, 130676.64, 131238.57, 131800.5 , 132362.43, 132924.36,\n",
       "       133486.29, 134048.22, 134610.14, 135172.07, 135734.  , 136295.93,\n",
       "       136857.86, 137419.79, 137981.72, 138543.65, 139105.57, 139667.5 ,\n",
       "       140229.43, 140791.36, 141353.29, 141915.22, 142477.15, 143039.07,\n",
       "       143601.  , 144162.93, 144724.86, 145286.79, 145848.72, 146410.65,\n",
       "       146972.57, 147534.5 , 148096.43, 148658.36, 149220.29, 149782.22,\n",
       "       150344.15, 150906.08, 151468.  , 152029.93, 152591.86, 153153.79])"
      ]
     },
     "execution_count": 19,
     "metadata": {},
     "output_type": "execute_result"
    }
   ],
   "source": [
    "apart_price_increase = np.around(np.linspace(price, price_increased, nper),2)\n",
    "apart_price_increase"
   ]
  },
  {
   "cell_type": "code",
   "execution_count": 20,
   "id": "8c8cb524",
   "metadata": {},
   "outputs": [
    {
     "data": {
      "text/plain": [
       "array([1875.28, 1875.28, 1875.28, 1875.28, 1875.28, 1875.28, 1875.28,\n",
       "       1875.28, 1875.28, 1875.28, 1875.28, 1875.28, 1875.28, 1875.28,\n",
       "       1875.28, 1875.28, 1875.28, 1875.28, 1875.28, 1875.28, 1875.28,\n",
       "       1875.28, 1875.28, 1875.28, 1875.28, 1875.28, 1875.28, 1875.28,\n",
       "       1875.28, 1875.28, 1875.28, 1875.28, 1875.28, 1875.28, 1875.28,\n",
       "       1875.28, 1875.28, 1875.28, 1875.28, 1875.28, 1875.28, 1875.28,\n",
       "       1875.28, 1875.28, 1875.28, 1875.28, 1875.28, 1875.28, 1875.28,\n",
       "       1875.28, 1875.28, 1875.28, 1875.28, 1875.28, 1875.28, 1875.28,\n",
       "       1875.28, 1875.28, 1875.28, 1875.28])"
      ]
     },
     "execution_count": 20,
     "metadata": {},
     "output_type": "execute_result"
    }
   ],
   "source": [
    "monthly_deposit = np.zeros(nper) +  monthly_payment\n",
    "monthly_deposit"
   ]
  },
  {
   "cell_type": "code",
   "execution_count": 24,
   "id": "03300d1a",
   "metadata": {},
   "outputs": [
    {
     "data": {
      "text/plain": [
       "array([  -0.        ,   18.75283569,   37.69319974,   56.82296744,\n",
       "         76.1440328 ,   95.65830883,  115.36772761,  135.27424058,\n",
       "        155.37981868,  175.68645256,  196.19615278,  216.91095   ,\n",
       "        237.8328952 ,  258.96405984,  280.30653613,  301.86243719,\n",
       "        323.63389725,  345.62307192,  367.83213833,  390.26329541,\n",
       "        412.91876406,  435.80078739,  458.91163096,  482.25358297,\n",
       "        505.82895449,  529.64007973,  553.68931622,  577.97904508,\n",
       "        602.51167122,  627.28962363,  652.31535556,  677.59134481,\n",
       "        703.12009395,  728.90413058,  754.94600758,  781.24830335,\n",
       "        807.81362208,  834.64459399,  861.74387563,  889.11415008,\n",
       "        916.75812727,  944.67854424,  972.87816538, 1001.35978272,\n",
       "       1030.12621625, 1059.1803141 , 1088.52495294, 1118.16303816,\n",
       "       1148.09750424, 1178.33131497, 1208.86746382, 1239.70897415,\n",
       "       1270.85889958, 1302.32032427, 1334.09636321, 1366.19016254,\n",
       "       1398.60489986, 1431.34378455, 1464.41005809, 1497.80699436])"
      ]
     },
     "execution_count": 24,
     "metadata": {},
     "output_type": "execute_result"
    }
   ],
   "source": [
    "deposit_increase = npf.ipmt(rate_monthly, periods, nper, 0, price_increased)\n",
    "deposit_increase"
   ]
  },
  {
   "cell_type": "code",
   "execution_count": 25,
   "id": "c2d8be46",
   "metadata": {},
   "outputs": [
    {
     "data": {
      "text/plain": [
       "array([1875.28      , 1894.03283569, 1912.97319974, 1932.10296744,\n",
       "       1951.4240328 , 1970.93830883, 1990.64772761, 2010.55424058,\n",
       "       2030.65981868, 2050.96645256, 2071.47615278, 2092.19095   ,\n",
       "       2113.1128952 , 2134.24405984, 2155.58653613, 2177.14243719,\n",
       "       2198.91389725, 2220.90307192, 2243.11213833, 2265.54329541,\n",
       "       2288.19876406, 2311.08078739, 2334.19163096, 2357.53358297,\n",
       "       2381.10895449, 2404.92007973, 2428.96931622, 2453.25904508,\n",
       "       2477.79167122, 2502.56962363, 2527.59535556, 2552.87134481,\n",
       "       2578.40009395, 2604.18413058, 2630.22600758, 2656.52830335,\n",
       "       2683.09362208, 2709.92459399, 2737.02387563, 2764.39415008,\n",
       "       2792.03812727, 2819.95854424, 2848.15816538, 2876.63978272,\n",
       "       2905.40621625, 2934.4603141 , 2963.80495294, 2993.44303816,\n",
       "       3023.37750424, 3053.61131497, 3084.14746382, 3114.98897415,\n",
       "       3146.13889958, 3177.60032427, 3209.37636321, 3241.47016254,\n",
       "       3273.88489986, 3306.62378455, 3339.69005809, 3373.08699436])"
      ]
     },
     "execution_count": 25,
     "metadata": {},
     "output_type": "execute_result"
    }
   ],
   "source": [
    "deposit_plus_percent = monthly_deposit + deposit_increase\n",
    "deposit_plus_percent"
   ]
  },
  {
   "cell_type": "code",
   "execution_count": 28,
   "id": "f9b2ab32",
   "metadata": {},
   "outputs": [
    {
     "data": {
      "text/plain": [
       "Text(0, 0.5, 'Wartość')"
      ]
     },
     "execution_count": 28,
     "metadata": {},
     "output_type": "execute_result"
    },
    {
     "data": {
      "image/png": "[encoded data removed]",
      "text/plain": [
       "<Figure size 432x288 with 1 Axes>"
      ]
     },
     "metadata": {
      "needs_background": "light"
     },
     "output_type": "display_data"
    }
   ],
   "source": [
    "import matplotlib.pyplot as plt\n",
    "\n",
    "plt.plot(apart_price_increase,label='Wzrost wartości mieszkania')\n",
    "plt.plot(deposit_plus_percent.cumsum(),label='Oszczędności')\n",
    "plt.legend()\n",
    "plt.xlabel('Liczba okresów')\n",
    "plt.ylabel('Wartość')"
   ]
  },
  {
   "cell_type": "code",
   "execution_count": null,
   "id": "4b9b7411",
   "metadata": {},
   "outputs": [],
   "source": []
  }
 ],
 "metadata": {
  "kernelspec": {
   "display_name": "Python 3 (ipykernel)",
   "language": "python",
   "name": "python3"
  },
  "language_info": {
   "codemirror_mode": {
    "name": "ipython",
    "version": 3
   },
   "file_extension": ".py",
   "mimetype": "text/x-python",
   "name": "python",
   "nbconvert_exporter": "python",
   "pygments_lexer": "ipython3",
   "version": "3.9.7"
  }
 },
 "nbformat": 4,
 "nbformat_minor": 5
}
