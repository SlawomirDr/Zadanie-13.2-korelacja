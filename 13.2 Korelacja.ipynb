{
 "cells": [
  {
   "cell_type": "code",
   "execution_count": 3,
   "id": "a77ea726",
   "metadata": {},
   "outputs": [
    {
     "data": {
      "text/html": [
       "<div>\n",
       "<style scoped>\n",
       "    .dataframe tbody tr th:only-of-type {\n",
       "        vertical-align: middle;\n",
       "    }\n",
       "\n",
       "    .dataframe tbody tr th {\n",
       "        vertical-align: top;\n",
       "    }\n",
       "\n",
       "    .dataframe thead th {\n",
       "        text-align: right;\n",
       "    }\n",
       "</style>\n",
       "<table border=\"1\" class=\"dataframe\">\n",
       "  <thead>\n",
       "    <tr style=\"text-align: right;\">\n",
       "      <th></th>\n",
       "      <th>Fertility rate</th>\n",
       "      <th>Life expectancy at birth</th>\n",
       "    </tr>\n",
       "    <tr>\n",
       "      <th>Country</th>\n",
       "      <th></th>\n",
       "      <th></th>\n",
       "    </tr>\n",
       "  </thead>\n",
       "  <tbody>\n",
       "    <tr>\n",
       "      <th>1</th>\n",
       "      <td>1.300</td>\n",
       "      <td>76.84878</td>\n",
       "    </tr>\n",
       "    <tr>\n",
       "      <th>2</th>\n",
       "      <td>1.950</td>\n",
       "      <td>81.40732</td>\n",
       "    </tr>\n",
       "    <tr>\n",
       "      <th>3</th>\n",
       "      <td>2.466</td>\n",
       "      <td>77.57895</td>\n",
       "    </tr>\n",
       "    <tr>\n",
       "      <th>4</th>\n",
       "      <td>1.600</td>\n",
       "      <td>74.16341</td>\n",
       "    </tr>\n",
       "    <tr>\n",
       "      <th>5</th>\n",
       "      <td>2.952</td>\n",
       "      <td>68.84907</td>\n",
       "    </tr>\n",
       "    <tr>\n",
       "      <th>6</th>\n",
       "      <td>1.801</td>\n",
       "      <td>73.88595</td>\n",
       "    </tr>\n",
       "    <tr>\n",
       "      <th>7</th>\n",
       "      <td>1.340</td>\n",
       "      <td>75.26829</td>\n",
       "    </tr>\n",
       "    <tr>\n",
       "      <th>8</th>\n",
       "      <td>1.340</td>\n",
       "      <td>76.26098</td>\n",
       "    </tr>\n",
       "    <tr>\n",
       "      <th>9</th>\n",
       "      <td>1.630</td>\n",
       "      <td>80.57244</td>\n",
       "    </tr>\n",
       "    <tr>\n",
       "      <th>10</th>\n",
       "      <td>2.326</td>\n",
       "      <td>65.46259</td>\n",
       "    </tr>\n",
       "    <tr>\n",
       "      <th>11</th>\n",
       "      <td>2.436</td>\n",
       "      <td>67.54820</td>\n",
       "    </tr>\n",
       "    <tr>\n",
       "      <th>12</th>\n",
       "      <td>6.563</td>\n",
       "      <td>55.02451</td>\n",
       "    </tr>\n",
       "    <tr>\n",
       "      <th>13</th>\n",
       "      <td>1.283</td>\n",
       "      <td>76.27990</td>\n",
       "    </tr>\n",
       "    <tr>\n",
       "      <th>14</th>\n",
       "      <td>1.430</td>\n",
       "      <td>82.29024</td>\n",
       "    </tr>\n",
       "    <tr>\n",
       "      <th>15</th>\n",
       "      <td>1.988</td>\n",
       "      <td>69.80695</td>\n",
       "    </tr>\n",
       "    <tr>\n",
       "      <th>16</th>\n",
       "      <td>1.610</td>\n",
       "      <td>81.40112</td>\n",
       "    </tr>\n",
       "    <tr>\n",
       "      <th>17</th>\n",
       "      <td>1.921</td>\n",
       "      <td>82.19756</td>\n",
       "    </tr>\n",
       "    <tr>\n",
       "      <th>18</th>\n",
       "      <td>2.400</td>\n",
       "      <td>74.22683</td>\n",
       "    </tr>\n",
       "    <tr>\n",
       "      <th>19</th>\n",
       "      <td>1.495</td>\n",
       "      <td>80.12880</td>\n",
       "    </tr>\n",
       "    <tr>\n",
       "      <th>20</th>\n",
       "      <td>4.705</td>\n",
       "      <td>45.55095</td>\n",
       "    </tr>\n",
       "  </tbody>\n",
       "</table>\n",
       "</div>"
      ],
      "text/plain": [
       "         Fertility rate  Life expectancy at birth\n",
       "Country                                          \n",
       "1                 1.300                  76.84878\n",
       "2                 1.950                  81.40732\n",
       "3                 2.466                  77.57895\n",
       "4                 1.600                  74.16341\n",
       "5                 2.952                  68.84907\n",
       "6                 1.801                  73.88595\n",
       "7                 1.340                  75.26829\n",
       "8                 1.340                  76.26098\n",
       "9                 1.630                  80.57244\n",
       "10                2.326                  65.46259\n",
       "11                2.436                  67.54820\n",
       "12                6.563                  55.02451\n",
       "13                1.283                  76.27990\n",
       "14                1.430                  82.29024\n",
       "15                1.988                  69.80695\n",
       "16                1.610                  81.40112\n",
       "17                1.921                  82.19756\n",
       "18                2.400                  74.22683\n",
       "19                1.495                  80.12880\n",
       "20                4.705                  45.55095"
      ]
     },
     "execution_count": 3,
     "metadata": {},
     "output_type": "execute_result"
    }
   ],
   "source": [
    "import pandas as pd\n",
    "import numpy as np\n",
    "\n",
    "demographics = [\n",
    "    (1.3, 76.84878),\n",
    "    (1.95, 81.40732),\n",
    "    (2.466, 77.57895),\n",
    "    (1.6, 74.16341),\n",
    "    (2.952, 68.84907),\n",
    "    (1.801, 73.88595),\n",
    "    (1.34, 75.26829),\n",
    "    (1.34, 76.26098),\n",
    "    (1.63, 80.57244),\n",
    "    (2.326, 65.46259),\n",
    "    (2.436, 67.5482),\n",
    "    (6.563, 55.02451),\n",
    "    (1.283, 76.2799),\n",
    "    (1.43, 82.29024),\n",
    "    (1.988, 69.80695),\n",
    "    (1.61, 81.40112),\n",
    "    (1.921, 82.19756),\n",
    "    (2.4, 74.22683),\n",
    "    (1.495, 80.1288),\n",
    "    (4.705, 45.55095)\n",
    "]\n",
    "df = pd.DataFrame(demographics, columns = [\"Fertility rate\", \"Life expectancy at birth\" ])\n",
    "df.index = np.arange(1, 21)\n",
    "df.index.name = \"Country\"\n",
    "df"
   ]
  },
  {
   "cell_type": "code",
   "execution_count": 4,
   "id": "e94e5092",
   "metadata": {},
   "outputs": [
    {
     "name": "stdout",
     "output_type": "stream",
     "text": [
      "Median for the life expectancy at birth: 75.764635 variance is 88.19405436638526 and the standard deviation is 9.391168956332606\n"
     ]
    }
   ],
   "source": [
    "median = df['Life expectancy at birth'].median()\n",
    "variance = df.var()['Life expectancy at birth']\n",
    "standard_deviation = df['Life expectancy at birth'].std()\n",
    "print(f'Median for the life expectancy at birth: {median} variance is {variance} and the standard deviation is {standard_deviation}')"
   ]
  },
  {
   "cell_type": "code",
   "execution_count": 5,
   "id": "7682cd6e",
   "metadata": {},
   "outputs": [
    {
     "name": "stdout",
     "output_type": "stream",
     "text": [
      "Standard deviation of Fertility rate is 1.2904866727834035\n"
     ]
    }
   ],
   "source": [
    "standard_deviation_birth = df['Fertility rate'].std()\n",
    "print(f'Standard deviation of Fertility rate is {standard_deviation_birth}')"
   ]
  },
  {
   "cell_type": "code",
   "execution_count": 12,
   "id": "d8da5723",
   "metadata": {},
   "outputs": [
    {
     "data": {
      "text/html": [
       "<div>\n",
       "<style scoped>\n",
       "    .dataframe tbody tr th:only-of-type {\n",
       "        vertical-align: middle;\n",
       "    }\n",
       "\n",
       "    .dataframe tbody tr th {\n",
       "        vertical-align: top;\n",
       "    }\n",
       "\n",
       "    .dataframe thead th {\n",
       "        text-align: right;\n",
       "    }\n",
       "</style>\n",
       "<table border=\"1\" class=\"dataframe\">\n",
       "  <thead>\n",
       "    <tr style=\"text-align: right;\">\n",
       "      <th></th>\n",
       "      <th>Fertility rate</th>\n",
       "      <th>Life expectancy at birth</th>\n",
       "    </tr>\n",
       "  </thead>\n",
       "  <tbody>\n",
       "    <tr>\n",
       "      <th>Fertility rate</th>\n",
       "      <td>1.665356</td>\n",
       "      <td>-9.943701</td>\n",
       "    </tr>\n",
       "    <tr>\n",
       "      <th>Life expectancy at birth</th>\n",
       "      <td>-9.943701</td>\n",
       "      <td>88.194054</td>\n",
       "    </tr>\n",
       "  </tbody>\n",
       "</table>\n",
       "</div>"
      ],
      "text/plain": [
       "                          Fertility rate  Life expectancy at birth\n",
       "Fertility rate                  1.665356                 -9.943701\n",
       "Life expectancy at birth       -9.943701                 88.194054"
      ]
     },
     "execution_count": 12,
     "metadata": {},
     "output_type": "execute_result"
    }
   ],
   "source": [
    "df.cov()"
   ]
  },
  {
   "cell_type": "code",
   "execution_count": 13,
   "id": "d949a56d",
   "metadata": {},
   "outputs": [
    {
     "data": {
      "text/html": [
       "<div>\n",
       "<style scoped>\n",
       "    .dataframe tbody tr th:only-of-type {\n",
       "        vertical-align: middle;\n",
       "    }\n",
       "\n",
       "    .dataframe tbody tr th {\n",
       "        vertical-align: top;\n",
       "    }\n",
       "\n",
       "    .dataframe thead th {\n",
       "        text-align: right;\n",
       "    }\n",
       "</style>\n",
       "<table border=\"1\" class=\"dataframe\">\n",
       "  <thead>\n",
       "    <tr style=\"text-align: right;\">\n",
       "      <th></th>\n",
       "      <th>Fertility rate</th>\n",
       "      <th>Life expectancy at birth</th>\n",
       "    </tr>\n",
       "  </thead>\n",
       "  <tbody>\n",
       "    <tr>\n",
       "      <th>Fertility rate</th>\n",
       "      <td>1.000000</td>\n",
       "      <td>-0.820493</td>\n",
       "    </tr>\n",
       "    <tr>\n",
       "      <th>Life expectancy at birth</th>\n",
       "      <td>-0.820493</td>\n",
       "      <td>1.000000</td>\n",
       "    </tr>\n",
       "  </tbody>\n",
       "</table>\n",
       "</div>"
      ],
      "text/plain": [
       "                          Fertility rate  Life expectancy at birth\n",
       "Fertility rate                  1.000000                 -0.820493\n",
       "Life expectancy at birth       -0.820493                  1.000000"
      ]
     },
     "execution_count": 13,
     "metadata": {},
     "output_type": "execute_result"
    }
   ],
   "source": [
    "df.corr()"
   ]
  },
  {
   "cell_type": "code",
   "execution_count": null,
   "id": "061d9c1a",
   "metadata": {},
   "outputs": [],
   "source": [
    "# Korelacja o wartości -0.82 wg. skali J. Guilforda jest bardzo wysoka. Oznacza to, że dzietność jest mocno powiązana ze średnią długością życia. Kierunek ujemny tej korelacji wskazuje, że wzrost dzietnoći wiąże się ze zmniejszeniem długości życia."
   ]
  },
  {
   "cell_type": "code",
   "execution_count": 17,
   "id": "256e7e4c",
   "metadata": {},
   "outputs": [
    {
     "data": {
      "text/plain": [
       "<seaborn.axisgrid.FacetGrid at 0x1fa496d0460>"
      ]
     },
     "execution_count": 17,
     "metadata": {},
     "output_type": "execute_result"
    },
    {
     "data": {
      "image/png": "[encoded data removed]",
      "text/plain": [
       "<Figure size 360x360 with 1 Axes>"
      ]
     },
     "metadata": {
      "needs_background": "light"
     },
     "output_type": "display_data"
    }
   ],
   "source": [
    "import seaborn as sns\n",
    "sns.lmplot(y='Fertility rate', x='Life expectancy at birth', data=df)"
   ]
  },
  {
   "cell_type": "code",
   "execution_count": 26,
   "id": "1feb8db8",
   "metadata": {},
   "outputs": [
    {
     "name": "stdout",
     "output_type": "stream",
     "text": [
      "Przy założeniu ufności na poziomie 95%, średnia długość życia całej populacji będzie się mieściła w przedziale (69.25377384856726, 77.22151015143272)\n"
     ]
    }
   ],
   "source": [
    "x = df['Life expectancy at birth'].mean()\n",
    "t1 = (x - (1.96*9.09)/20**0.5)\n",
    "t2 = (x + (1.96*9.09)/20**0.5)\n",
    "print(f'Przy założeniu ufności na poziomie 95%, średnia długość życia całej populacji będzie się mieściła w przedziale {t1, t2}')"
   ]
  },
  {
   "cell_type": "code",
   "execution_count": null,
   "id": "c81f0f59",
   "metadata": {},
   "outputs": [],
   "source": []
  }
 ],
 "metadata": {
  "kernelspec": {
   "display_name": "Python 3 (ipykernel)",
   "language": "python",
   "name": "python3"
  },
  "language_info": {
   "codemirror_mode": {
    "name": "ipython",
    "version": 3
   },
   "file_extension": ".py",
   "mimetype": "text/x-python",
   "name": "python",
   "nbconvert_exporter": "python",
   "pygments_lexer": "ipython3",
   "version": "3.9.7"
  }
 },
 "nbformat": 4,
 "nbformat_minor": 5
}
